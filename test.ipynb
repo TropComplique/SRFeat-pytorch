{
 "cells": [
  {
   "cell_type": "code",
   "execution_count": null,
   "metadata": {},
   "outputs": [],
   "source": [
    "import torch\n",
    "import torch.nn.functional as F\n",
    "from PIL import Image\n",
    "\n",
    "from input_pipeline import Images\n",
    "from generator import Generator"
   ]
  },
  {
   "cell_type": "code",
   "execution_count": null,
   "metadata": {},
   "outputs": [],
   "source": [
    "DEVICE = torch.device('cuda:1')\n",
    "\n",
    "SIZE = 1024\n",
    "WEIGHTS = 'models/run01_epoch_1500_generator.pth'\n",
    "DATA = '/home/dan/datasets/DIV2K/DIV2K_valid_HR/'"
   ]
  },
  {
   "cell_type": "code",
   "execution_count": null,
   "metadata": {},
   "outputs": [],
   "source": [
    "def downsample(images):\n",
    "    return F.interpolate(\n",
    "        images, mode='bilinear',\n",
    "        size=(SIZE // 4, SIZE // 4),\n",
    "        align_corners=False\n",
    "    )\n",
    "\n",
    "\n",
    "dataset = Images(DATA, SIZE, is_training=False)\n",
    "G = Generator().eval().to(DEVICE)\n",
    "state = torch.load(WEIGHTS, map_location=DEVICE)\n",
    "G.load_state_dict(state)"
   ]
  },
  {
   "cell_type": "markdown",
   "metadata": {},
   "source": [
    "# Load an image"
   ]
  },
  {
   "cell_type": "code",
   "execution_count": null,
   "metadata": {},
   "outputs": [],
   "source": [
    "B = dataset[58].unsqueeze(0).to(DEVICE) # 64, 58\n",
    "A = downsample(B)\n",
    "\n",
    "image = B.squeeze(0).cpu().permute(1, 2, 0).numpy()\n",
    "image = (image * 255).astype('uint8')\n",
    "\n",
    "downsampled_image = A.squeeze(0).cpu().permute(1, 2, 0).numpy()\n",
    "downsampled_image = (downsampled_image * 255).astype('uint8')\n",
    "\n",
    "Image.fromarray(downsampled_image)"
   ]
  },
  {
   "cell_type": "code",
   "execution_count": null,
   "metadata": {},
   "outputs": [],
   "source": [
    "Image.fromarray(image)"
   ]
  },
  {
   "cell_type": "markdown",
   "metadata": {},
   "source": [
    "# Upscale"
   ]
  },
  {
   "cell_type": "code",
   "execution_count": null,
   "metadata": {
    "scrolled": false
   },
   "outputs": [],
   "source": [
    "with torch.no_grad():\n",
    "    B_restored = G(A)\n",
    "\n",
    "image = B_restored.squeeze(0).permute(1, 2, 0).cpu().numpy()\n",
    "image = (image * 255).astype('uint8')\n",
    "Image.fromarray(image)"
   ]
  },
  {
   "cell_type": "code",
   "execution_count": null,
   "metadata": {},
   "outputs": [],
   "source": [
    "Image.fromarray(downsampled_image).resize((SIZE, SIZE), Image.LANCZOS)"
   ]
  }
 ],
 "metadata": {
  "kernelspec": {
   "display_name": "Python 3",
   "language": "python",
   "name": "python3"
  },
  "language_info": {
   "codemirror_mode": {
    "name": "ipython",
    "version": 3
   },
   "file_extension": ".py",
   "mimetype": "text/x-python",
   "name": "python",
   "nbconvert_exporter": "python",
   "pygments_lexer": "ipython3",
   "version": "3.6.9"
  }
 },
 "nbformat": 4,
 "nbformat_minor": 2
}
